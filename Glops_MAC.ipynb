{
  "nbformat": 4,
  "nbformat_minor": 0,
  "metadata": {
    "colab": {
      "name": "Glops_MAC.ipynb",
      "provenance": [],
      "authorship_tag": "ABX9TyNpXjNy57PjaEdqvxkJwjlq",
      "include_colab_link": true
    },
    "kernelspec": {
      "name": "python3",
      "display_name": "Python 3"
    }
  },
  "cells": [
    {
      "cell_type": "markdown",
      "metadata": {
        "id": "view-in-github",
        "colab_type": "text"
      },
      "source": [
        "<a href=\"https://colab.research.google.com/github/Saurav-31/Colab_notebooks_DL/blob/main/Glops_MAC.ipynb\" target=\"_parent\"><img src=\"https://colab.research.google.com/assets/colab-badge.svg\" alt=\"Open In Colab\"/></a>"
      ]
    },
    {
      "cell_type": "code",
      "metadata": {
        "id": "28ToU4WY2Gpy"
      },
      "source": [
        "import torch"
      ],
      "execution_count": 1,
      "outputs": []
    }
  ]
}